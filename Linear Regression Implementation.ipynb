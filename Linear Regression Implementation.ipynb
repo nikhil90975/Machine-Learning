{
 "cells": [
  {
   "cell_type": "markdown",
   "metadata": {},
   "source": [
    "#Linear Regression Implementation"
   ]
  },
  {
   "cell_type": "code",
   "execution_count": 74,
   "metadata": {},
   "outputs": [],
   "source": [
    "import pandas as pd"
   ]
  },
  {
   "cell_type": "code",
   "execution_count": 75,
   "metadata": {},
   "outputs": [],
   "source": [
    "data = pd.read_csv(\"Datasets/19_420_bundle_archive/Iris.csv\")\n",
    "data\n",
    "np_data = data.reset_index().values"
   ]
  },
  {
   "cell_type": "code",
   "execution_count": 93,
   "metadata": {},
   "outputs": [
    {
     "data": {
      "text/plain": [
       "array([[0, 1, 3.5, 1.4, 0.2, 'Iris-setosa'],\n",
       "       [1, 2, 3.0, 1.4, 0.2, 'Iris-setosa'],\n",
       "       [2, 3, 3.2, 1.3, 0.2, 'Iris-setosa'],\n",
       "       [3, 4, 3.1, 1.5, 0.2, 'Iris-setosa'],\n",
       "       [4, 5, 3.6, 1.4, 0.2, 'Iris-setosa'],\n",
       "       [5, 6, 3.9, 1.7, 0.4, 'Iris-setosa'],\n",
       "       [6, 7, 3.4, 1.4, 0.3, 'Iris-setosa'],\n",
       "       [7, 8, 3.4, 1.5, 0.2, 'Iris-setosa'],\n",
       "       [8, 9, 2.9, 1.4, 0.2, 'Iris-setosa'],\n",
       "       [9, 10, 3.1, 1.5, 0.1, 'Iris-setosa'],\n",
       "       [10, 11, 3.7, 1.5, 0.2, 'Iris-setosa'],\n",
       "       [11, 12, 3.4, 1.6, 0.2, 'Iris-setosa'],\n",
       "       [12, 13, 3.0, 1.4, 0.1, 'Iris-setosa'],\n",
       "       [13, 14, 3.0, 1.1, 0.1, 'Iris-setosa'],\n",
       "       [14, 15, 4.0, 1.2, 0.2, 'Iris-setosa'],\n",
       "       [15, 16, 4.4, 1.5, 0.4, 'Iris-setosa'],\n",
       "       [16, 17, 3.9, 1.3, 0.4, 'Iris-setosa'],\n",
       "       [17, 18, 3.5, 1.4, 0.3, 'Iris-setosa'],\n",
       "       [18, 19, 3.8, 1.7, 0.3, 'Iris-setosa'],\n",
       "       [19, 20, 3.8, 1.5, 0.3, 'Iris-setosa'],\n",
       "       [20, 21, 3.4, 1.7, 0.2, 'Iris-setosa'],\n",
       "       [21, 22, 3.7, 1.5, 0.4, 'Iris-setosa'],\n",
       "       [22, 23, 3.6, 1.0, 0.2, 'Iris-setosa'],\n",
       "       [23, 24, 3.3, 1.7, 0.5, 'Iris-setosa'],\n",
       "       [24, 25, 3.4, 1.9, 0.2, 'Iris-setosa'],\n",
       "       [25, 26, 3.0, 1.6, 0.2, 'Iris-setosa'],\n",
       "       [26, 27, 3.4, 1.6, 0.4, 'Iris-setosa'],\n",
       "       [27, 28, 3.5, 1.5, 0.2, 'Iris-setosa'],\n",
       "       [28, 29, 3.4, 1.4, 0.2, 'Iris-setosa'],\n",
       "       [29, 30, 3.2, 1.6, 0.2, 'Iris-setosa'],\n",
       "       [30, 31, 3.1, 1.6, 0.2, 'Iris-setosa'],\n",
       "       [31, 32, 3.4, 1.5, 0.4, 'Iris-setosa'],\n",
       "       [32, 33, 4.1, 1.5, 0.1, 'Iris-setosa'],\n",
       "       [33, 34, 4.2, 1.4, 0.2, 'Iris-setosa'],\n",
       "       [34, 35, 3.1, 1.5, 0.1, 'Iris-setosa'],\n",
       "       [35, 36, 3.2, 1.2, 0.2, 'Iris-setosa'],\n",
       "       [36, 37, 3.5, 1.3, 0.2, 'Iris-setosa'],\n",
       "       [37, 38, 3.1, 1.5, 0.1, 'Iris-setosa'],\n",
       "       [38, 39, 3.0, 1.3, 0.2, 'Iris-setosa'],\n",
       "       [39, 40, 3.4, 1.5, 0.2, 'Iris-setosa'],\n",
       "       [40, 41, 3.5, 1.3, 0.3, 'Iris-setosa'],\n",
       "       [41, 42, 2.3, 1.3, 0.3, 'Iris-setosa'],\n",
       "       [42, 43, 3.2, 1.3, 0.2, 'Iris-setosa'],\n",
       "       [43, 44, 3.5, 1.6, 0.6, 'Iris-setosa'],\n",
       "       [44, 45, 3.8, 1.9, 0.4, 'Iris-setosa'],\n",
       "       [45, 46, 3.0, 1.4, 0.3, 'Iris-setosa'],\n",
       "       [46, 47, 3.8, 1.6, 0.2, 'Iris-setosa'],\n",
       "       [47, 48, 3.2, 1.4, 0.2, 'Iris-setosa'],\n",
       "       [48, 49, 3.7, 1.5, 0.2, 'Iris-setosa'],\n",
       "       [49, 50, 3.3, 1.4, 0.2, 'Iris-setosa'],\n",
       "       [50, 51, 3.2, 4.7, 1.4, 'Iris-versicolor'],\n",
       "       [51, 52, 3.2, 4.5, 1.5, 'Iris-versicolor'],\n",
       "       [52, 53, 3.1, 4.9, 1.5, 'Iris-versicolor'],\n",
       "       [53, 54, 2.3, 4.0, 1.3, 'Iris-versicolor'],\n",
       "       [54, 55, 2.8, 4.6, 1.5, 'Iris-versicolor'],\n",
       "       [55, 56, 2.8, 4.5, 1.3, 'Iris-versicolor'],\n",
       "       [56, 57, 3.3, 4.7, 1.6, 'Iris-versicolor'],\n",
       "       [57, 58, 2.4, 3.3, 1.0, 'Iris-versicolor'],\n",
       "       [58, 59, 2.9, 4.6, 1.3, 'Iris-versicolor'],\n",
       "       [59, 60, 2.7, 3.9, 1.4, 'Iris-versicolor'],\n",
       "       [60, 61, 2.0, 3.5, 1.0, 'Iris-versicolor'],\n",
       "       [61, 62, 3.0, 4.2, 1.5, 'Iris-versicolor'],\n",
       "       [62, 63, 2.2, 4.0, 1.0, 'Iris-versicolor'],\n",
       "       [63, 64, 2.9, 4.7, 1.4, 'Iris-versicolor'],\n",
       "       [64, 65, 2.9, 3.6, 1.3, 'Iris-versicolor'],\n",
       "       [65, 66, 3.1, 4.4, 1.4, 'Iris-versicolor'],\n",
       "       [66, 67, 3.0, 4.5, 1.5, 'Iris-versicolor'],\n",
       "       [67, 68, 2.7, 4.1, 1.0, 'Iris-versicolor'],\n",
       "       [68, 69, 2.2, 4.5, 1.5, 'Iris-versicolor'],\n",
       "       [69, 70, 2.5, 3.9, 1.1, 'Iris-versicolor'],\n",
       "       [70, 71, 3.2, 4.8, 1.8, 'Iris-versicolor'],\n",
       "       [71, 72, 2.8, 4.0, 1.3, 'Iris-versicolor'],\n",
       "       [72, 73, 2.5, 4.9, 1.5, 'Iris-versicolor'],\n",
       "       [73, 74, 2.8, 4.7, 1.2, 'Iris-versicolor'],\n",
       "       [74, 75, 2.9, 4.3, 1.3, 'Iris-versicolor'],\n",
       "       [75, 76, 3.0, 4.4, 1.4, 'Iris-versicolor'],\n",
       "       [76, 77, 2.8, 4.8, 1.4, 'Iris-versicolor'],\n",
       "       [77, 78, 3.0, 5.0, 1.7, 'Iris-versicolor'],\n",
       "       [78, 79, 2.9, 4.5, 1.5, 'Iris-versicolor'],\n",
       "       [79, 80, 2.6, 3.5, 1.0, 'Iris-versicolor'],\n",
       "       [80, 81, 2.4, 3.8, 1.1, 'Iris-versicolor'],\n",
       "       [81, 82, 2.4, 3.7, 1.0, 'Iris-versicolor'],\n",
       "       [82, 83, 2.7, 3.9, 1.2, 'Iris-versicolor'],\n",
       "       [83, 84, 2.7, 5.1, 1.6, 'Iris-versicolor'],\n",
       "       [84, 85, 3.0, 4.5, 1.5, 'Iris-versicolor'],\n",
       "       [85, 86, 3.4, 4.5, 1.6, 'Iris-versicolor'],\n",
       "       [86, 87, 3.1, 4.7, 1.5, 'Iris-versicolor'],\n",
       "       [87, 88, 2.3, 4.4, 1.3, 'Iris-versicolor'],\n",
       "       [88, 89, 3.0, 4.1, 1.3, 'Iris-versicolor'],\n",
       "       [89, 90, 2.5, 4.0, 1.3, 'Iris-versicolor'],\n",
       "       [90, 91, 2.6, 4.4, 1.2, 'Iris-versicolor'],\n",
       "       [91, 92, 3.0, 4.6, 1.4, 'Iris-versicolor'],\n",
       "       [92, 93, 2.6, 4.0, 1.2, 'Iris-versicolor'],\n",
       "       [93, 94, 2.3, 3.3, 1.0, 'Iris-versicolor'],\n",
       "       [94, 95, 2.7, 4.2, 1.3, 'Iris-versicolor'],\n",
       "       [95, 96, 3.0, 4.2, 1.2, 'Iris-versicolor'],\n",
       "       [96, 97, 2.9, 4.2, 1.3, 'Iris-versicolor'],\n",
       "       [97, 98, 2.9, 4.3, 1.3, 'Iris-versicolor'],\n",
       "       [98, 99, 2.5, 3.0, 1.1, 'Iris-versicolor'],\n",
       "       [99, 100, 2.8, 4.1, 1.3, 'Iris-versicolor'],\n",
       "       [100, 101, 3.3, 6.0, 2.5, 'Iris-virginica'],\n",
       "       [101, 102, 2.7, 5.1, 1.9, 'Iris-virginica'],\n",
       "       [102, 103, 3.0, 5.9, 2.1, 'Iris-virginica'],\n",
       "       [103, 104, 2.9, 5.6, 1.8, 'Iris-virginica'],\n",
       "       [104, 105, 3.0, 5.8, 2.2, 'Iris-virginica'],\n",
       "       [105, 106, 3.0, 6.6, 2.1, 'Iris-virginica'],\n",
       "       [106, 107, 2.5, 4.5, 1.7, 'Iris-virginica'],\n",
       "       [107, 108, 2.9, 6.3, 1.8, 'Iris-virginica'],\n",
       "       [108, 109, 2.5, 5.8, 1.8, 'Iris-virginica'],\n",
       "       [109, 110, 3.6, 6.1, 2.5, 'Iris-virginica'],\n",
       "       [110, 111, 3.2, 5.1, 2.0, 'Iris-virginica'],\n",
       "       [111, 112, 2.7, 5.3, 1.9, 'Iris-virginica'],\n",
       "       [112, 113, 3.0, 5.5, 2.1, 'Iris-virginica'],\n",
       "       [113, 114, 2.5, 5.0, 2.0, 'Iris-virginica'],\n",
       "       [114, 115, 2.8, 5.1, 2.4, 'Iris-virginica'],\n",
       "       [115, 116, 3.2, 5.3, 2.3, 'Iris-virginica'],\n",
       "       [116, 117, 3.0, 5.5, 1.8, 'Iris-virginica'],\n",
       "       [117, 118, 3.8, 6.7, 2.2, 'Iris-virginica'],\n",
       "       [118, 119, 2.6, 6.9, 2.3, 'Iris-virginica'],\n",
       "       [119, 120, 2.2, 5.0, 1.5, 'Iris-virginica'],\n",
       "       [120, 121, 3.2, 5.7, 2.3, 'Iris-virginica'],\n",
       "       [121, 122, 2.8, 4.9, 2.0, 'Iris-virginica'],\n",
       "       [122, 123, 2.8, 6.7, 2.0, 'Iris-virginica'],\n",
       "       [123, 124, 2.7, 4.9, 1.8, 'Iris-virginica'],\n",
       "       [124, 125, 3.3, 5.7, 2.1, 'Iris-virginica'],\n",
       "       [125, 126, 3.2, 6.0, 1.8, 'Iris-virginica'],\n",
       "       [126, 127, 2.8, 4.8, 1.8, 'Iris-virginica'],\n",
       "       [127, 128, 3.0, 4.9, 1.8, 'Iris-virginica'],\n",
       "       [128, 129, 2.8, 5.6, 2.1, 'Iris-virginica'],\n",
       "       [129, 130, 3.0, 5.8, 1.6, 'Iris-virginica'],\n",
       "       [130, 131, 2.8, 6.1, 1.9, 'Iris-virginica'],\n",
       "       [131, 132, 3.8, 6.4, 2.0, 'Iris-virginica'],\n",
       "       [132, 133, 2.8, 5.6, 2.2, 'Iris-virginica'],\n",
       "       [133, 134, 2.8, 5.1, 1.5, 'Iris-virginica'],\n",
       "       [134, 135, 2.6, 5.6, 1.4, 'Iris-virginica'],\n",
       "       [135, 136, 3.0, 6.1, 2.3, 'Iris-virginica'],\n",
       "       [136, 137, 3.4, 5.6, 2.4, 'Iris-virginica'],\n",
       "       [137, 138, 3.1, 5.5, 1.8, 'Iris-virginica'],\n",
       "       [138, 139, 3.0, 4.8, 1.8, 'Iris-virginica'],\n",
       "       [139, 140, 3.1, 5.4, 2.1, 'Iris-virginica'],\n",
       "       [140, 141, 3.1, 5.6, 2.4, 'Iris-virginica'],\n",
       "       [141, 142, 3.1, 5.1, 2.3, 'Iris-virginica'],\n",
       "       [142, 143, 2.7, 5.1, 1.9, 'Iris-virginica'],\n",
       "       [143, 144, 3.2, 5.9, 2.3, 'Iris-virginica'],\n",
       "       [144, 145, 3.3, 5.7, 2.5, 'Iris-virginica'],\n",
       "       [145, 146, 3.0, 5.2, 2.3, 'Iris-virginica'],\n",
       "       [146, 147, 2.5, 5.0, 1.9, 'Iris-virginica'],\n",
       "       [147, 148, 3.0, 5.2, 2.0, 'Iris-virginica'],\n",
       "       [148, 149, 3.4, 5.4, 2.3, 'Iris-virginica'],\n",
       "       [149, 150, 3.0, 5.1, 1.8, 'Iris-virginica']], dtype=object)"
      ]
     },
     "execution_count": 93,
     "metadata": {},
     "output_type": "execute_result"
    }
   ],
   "source": [
    "np_data"
   ]
  },
  {
   "cell_type": "code",
   "execution_count": 99,
   "metadata": {},
   "outputs": [
    {
     "data": {
      "text/plain": [
       "array([[3.5, 1.4],\n",
       "       [3.0, 1.4],\n",
       "       [3.2, 1.3],\n",
       "       [3.1, 1.5],\n",
       "       [3.6, 1.4],\n",
       "       [3.9, 1.7],\n",
       "       [3.4, 1.4],\n",
       "       [3.4, 1.5],\n",
       "       [2.9, 1.4],\n",
       "       [3.1, 1.5],\n",
       "       [3.7, 1.5],\n",
       "       [3.4, 1.6],\n",
       "       [3.0, 1.4],\n",
       "       [3.0, 1.1],\n",
       "       [4.0, 1.2],\n",
       "       [4.4, 1.5],\n",
       "       [3.9, 1.3],\n",
       "       [3.5, 1.4],\n",
       "       [3.8, 1.7],\n",
       "       [3.8, 1.5],\n",
       "       [3.4, 1.7],\n",
       "       [3.7, 1.5],\n",
       "       [3.6, 1.0],\n",
       "       [3.3, 1.7],\n",
       "       [3.4, 1.9],\n",
       "       [3.0, 1.6],\n",
       "       [3.4, 1.6],\n",
       "       [3.5, 1.5],\n",
       "       [3.4, 1.4],\n",
       "       [3.2, 1.6],\n",
       "       [3.1, 1.6],\n",
       "       [3.4, 1.5],\n",
       "       [4.1, 1.5],\n",
       "       [4.2, 1.4],\n",
       "       [3.1, 1.5],\n",
       "       [3.2, 1.2],\n",
       "       [3.5, 1.3],\n",
       "       [3.1, 1.5],\n",
       "       [3.0, 1.3],\n",
       "       [3.4, 1.5],\n",
       "       [3.5, 1.3],\n",
       "       [2.3, 1.3],\n",
       "       [3.2, 1.3],\n",
       "       [3.5, 1.6],\n",
       "       [3.8, 1.9],\n",
       "       [3.0, 1.4],\n",
       "       [3.8, 1.6],\n",
       "       [3.2, 1.4],\n",
       "       [3.7, 1.5],\n",
       "       [3.3, 1.4],\n",
       "       [3.2, 4.7],\n",
       "       [3.2, 4.5],\n",
       "       [3.1, 4.9],\n",
       "       [2.3, 4.0],\n",
       "       [2.8, 4.6],\n",
       "       [2.8, 4.5],\n",
       "       [3.3, 4.7],\n",
       "       [2.4, 3.3],\n",
       "       [2.9, 4.6],\n",
       "       [2.7, 3.9],\n",
       "       [2.0, 3.5],\n",
       "       [3.0, 4.2],\n",
       "       [2.2, 4.0],\n",
       "       [2.9, 4.7],\n",
       "       [2.9, 3.6],\n",
       "       [3.1, 4.4],\n",
       "       [3.0, 4.5],\n",
       "       [2.7, 4.1],\n",
       "       [2.2, 4.5],\n",
       "       [2.5, 3.9],\n",
       "       [3.2, 4.8],\n",
       "       [2.8, 4.0],\n",
       "       [2.5, 4.9],\n",
       "       [2.8, 4.7],\n",
       "       [2.9, 4.3],\n",
       "       [3.0, 4.4],\n",
       "       [2.8, 4.8],\n",
       "       [3.0, 5.0],\n",
       "       [2.9, 4.5],\n",
       "       [2.6, 3.5],\n",
       "       [2.4, 3.8],\n",
       "       [2.4, 3.7],\n",
       "       [2.7, 3.9],\n",
       "       [2.7, 5.1],\n",
       "       [3.0, 4.5],\n",
       "       [3.4, 4.5],\n",
       "       [3.1, 4.7],\n",
       "       [2.3, 4.4],\n",
       "       [3.0, 4.1],\n",
       "       [2.5, 4.0],\n",
       "       [2.6, 4.4],\n",
       "       [3.0, 4.6],\n",
       "       [2.6, 4.0],\n",
       "       [2.3, 3.3],\n",
       "       [2.7, 4.2],\n",
       "       [3.0, 4.2],\n",
       "       [2.9, 4.2],\n",
       "       [2.9, 4.3],\n",
       "       [2.5, 3.0],\n",
       "       [2.8, 4.1],\n",
       "       [3.3, 6.0],\n",
       "       [2.7, 5.1],\n",
       "       [3.0, 5.9],\n",
       "       [2.9, 5.6],\n",
       "       [3.0, 5.8],\n",
       "       [3.0, 6.6],\n",
       "       [2.5, 4.5],\n",
       "       [2.9, 6.3],\n",
       "       [2.5, 5.8],\n",
       "       [3.6, 6.1],\n",
       "       [3.2, 5.1],\n",
       "       [2.7, 5.3],\n",
       "       [3.0, 5.5],\n",
       "       [2.5, 5.0],\n",
       "       [2.8, 5.1],\n",
       "       [3.2, 5.3],\n",
       "       [3.0, 5.5],\n",
       "       [3.8, 6.7],\n",
       "       [2.6, 6.9],\n",
       "       [2.2, 5.0],\n",
       "       [3.2, 5.7],\n",
       "       [2.8, 4.9],\n",
       "       [2.8, 6.7],\n",
       "       [2.7, 4.9],\n",
       "       [3.3, 5.7],\n",
       "       [3.2, 6.0],\n",
       "       [2.8, 4.8],\n",
       "       [3.0, 4.9],\n",
       "       [2.8, 5.6],\n",
       "       [3.0, 5.8],\n",
       "       [2.8, 6.1],\n",
       "       [3.8, 6.4],\n",
       "       [2.8, 5.6],\n",
       "       [2.8, 5.1],\n",
       "       [2.6, 5.6],\n",
       "       [3.0, 6.1],\n",
       "       [3.4, 5.6],\n",
       "       [3.1, 5.5],\n",
       "       [3.0, 4.8],\n",
       "       [3.1, 5.4],\n",
       "       [3.1, 5.6],\n",
       "       [3.1, 5.1],\n",
       "       [2.7, 5.1],\n",
       "       [3.2, 5.9],\n",
       "       [3.3, 5.7],\n",
       "       [3.0, 5.2],\n",
       "       [2.5, 5.0],\n",
       "       [3.0, 5.2],\n",
       "       [3.4, 5.4],\n",
       "       [3.0, 5.1]], dtype=object)"
      ]
     },
     "execution_count": 99,
     "metadata": {},
     "output_type": "execute_result"
    }
   ],
   "source": [
    "np_data = np.delete(np_data,2,axis = 1)\n",
    "np_data"
   ]
  },
  {
   "cell_type": "code",
   "execution_count": 113,
   "metadata": {},
   "outputs": [
    {
     "data": {
      "text/plain": [
       "array([3.5, 3.0, 3.2, 3.1, 3.6, 3.9, 3.4, 3.4, 2.9, 3.1, 3.7, 3.4, 3.0,\n",
       "       3.0, 4.0, 4.4, 3.9, 3.5, 3.8, 3.8, 3.4, 3.7, 3.6, 3.3, 3.4, 3.0,\n",
       "       3.4, 3.5, 3.4, 3.2, 3.1, 3.4, 4.1, 4.2, 3.1, 3.2, 3.5, 3.1, 3.0,\n",
       "       3.4, 3.5, 2.3, 3.2, 3.5, 3.8, 3.0, 3.8, 3.2, 3.7, 3.3, 3.2, 3.2,\n",
       "       3.1, 2.3, 2.8, 2.8, 3.3, 2.4, 2.9, 2.7, 2.0, 3.0, 2.2, 2.9, 2.9,\n",
       "       3.1, 3.0, 2.7, 2.2, 2.5, 3.2, 2.8, 2.5, 2.8, 2.9, 3.0, 2.8, 3.0,\n",
       "       2.9, 2.6, 2.4, 2.4, 2.7, 2.7, 3.0, 3.4, 3.1, 2.3, 3.0, 2.5, 2.6,\n",
       "       3.0, 2.6, 2.3, 2.7, 3.0, 2.9, 2.9, 2.5, 2.8, 3.3, 2.7, 3.0, 2.9,\n",
       "       3.0, 3.0, 2.5, 2.9, 2.5, 3.6, 3.2, 2.7, 3.0, 2.5, 2.8, 3.2, 3.0,\n",
       "       3.8, 2.6, 2.2, 3.2, 2.8, 2.8, 2.7, 3.3, 3.2, 2.8, 3.0, 2.8, 3.0,\n",
       "       2.8, 3.8, 2.8, 2.8, 2.6, 3.0, 3.4, 3.1, 3.0, 3.1, 3.1, 3.1, 2.7,\n",
       "       3.2, 3.3, 3.0, 2.5, 3.0, 3.4, 3.0], dtype=object)"
      ]
     },
     "execution_count": 113,
     "metadata": {},
     "output_type": "execute_result"
    }
   ],
   "source": [
    "x=np_data[:,0]\n",
    "x"
   ]
  },
  {
   "cell_type": "code",
   "execution_count": 114,
   "metadata": {},
   "outputs": [
    {
     "data": {
      "text/plain": [
       "array([1.4, 1.4, 1.3, 1.5, 1.4, 1.7, 1.4, 1.5, 1.4, 1.5, 1.5, 1.6, 1.4,\n",
       "       1.1, 1.2, 1.5, 1.3, 1.4, 1.7, 1.5, 1.7, 1.5, 1.0, 1.7, 1.9, 1.6,\n",
       "       1.6, 1.5, 1.4, 1.6, 1.6, 1.5, 1.5, 1.4, 1.5, 1.2, 1.3, 1.5, 1.3,\n",
       "       1.5, 1.3, 1.3, 1.3, 1.6, 1.9, 1.4, 1.6, 1.4, 1.5, 1.4, 4.7, 4.5,\n",
       "       4.9, 4.0, 4.6, 4.5, 4.7, 3.3, 4.6, 3.9, 3.5, 4.2, 4.0, 4.7, 3.6,\n",
       "       4.4, 4.5, 4.1, 4.5, 3.9, 4.8, 4.0, 4.9, 4.7, 4.3, 4.4, 4.8, 5.0,\n",
       "       4.5, 3.5, 3.8, 3.7, 3.9, 5.1, 4.5, 4.5, 4.7, 4.4, 4.1, 4.0, 4.4,\n",
       "       4.6, 4.0, 3.3, 4.2, 4.2, 4.2, 4.3, 3.0, 4.1, 6.0, 5.1, 5.9, 5.6,\n",
       "       5.8, 6.6, 4.5, 6.3, 5.8, 6.1, 5.1, 5.3, 5.5, 5.0, 5.1, 5.3, 5.5,\n",
       "       6.7, 6.9, 5.0, 5.7, 4.9, 6.7, 4.9, 5.7, 6.0, 4.8, 4.9, 5.6, 5.8,\n",
       "       6.1, 6.4, 5.6, 5.1, 5.6, 6.1, 5.6, 5.5, 4.8, 5.4, 5.6, 5.1, 5.1,\n",
       "       5.9, 5.7, 5.2, 5.0, 5.2, 5.4, 5.1], dtype=object)"
      ]
     },
     "execution_count": 114,
     "metadata": {},
     "output_type": "execute_result"
    }
   ],
   "source": [
    "y=np_data[:,1]\n",
    "y"
   ]
  },
  {
   "cell_type": "code",
   "execution_count": 115,
   "metadata": {},
   "outputs": [
    {
     "data": {
      "text/plain": [
       "(array([3.5, 3.0, 3.2, 3.1, 3.6, 3.9, 3.4, 3.4, 2.9, 3.1, 3.7, 3.4, 3.0,\n",
       "        3.0, 4.0, 4.4, 3.9, 3.5, 3.8, 3.8, 3.4, 3.7, 3.6, 3.3, 3.4, 3.0,\n",
       "        3.4, 3.5, 3.4, 3.2, 3.1, 3.4, 4.1, 4.2, 3.1, 3.2, 3.5, 3.1, 3.0,\n",
       "        3.4, 3.5, 2.3, 3.2, 3.5, 3.8, 3.0, 3.8, 3.2, 3.7, 3.3, 3.2, 3.2,\n",
       "        3.1, 2.3, 2.8, 2.8, 3.3, 2.4, 2.9, 2.7, 2.0, 3.0, 2.2, 2.9, 2.9,\n",
       "        3.1, 3.0, 2.7, 2.2, 2.5, 3.2, 2.8, 2.5, 2.8, 2.9, 3.0, 2.8, 3.0,\n",
       "        2.9, 2.6, 2.4, 2.4, 2.7, 2.7, 3.0, 3.4, 3.1, 2.3, 3.0, 2.5, 2.6,\n",
       "        3.0, 2.6, 2.3, 2.7, 3.0, 2.9, 2.9, 2.5, 2.8, 3.3, 2.7, 3.0, 2.9,\n",
       "        3.0, 3.0, 2.5, 2.9, 2.5, 3.6, 3.2, 2.7, 3.0, 2.5, 2.8, 3.2, 3.0,\n",
       "        3.8, 2.6, 2.2, 3.2, 2.8, 2.8, 2.7, 3.3, 3.2, 2.8, 3.0, 2.8, 3.0,\n",
       "        2.8, 3.8, 2.8, 2.8, 2.6, 3.0, 3.4, 3.1, 3.0, 3.1, 3.1, 3.1, 2.7,\n",
       "        3.2, 3.3, 3.0, 2.5, 3.0, 3.4, 3.0], dtype=object),\n",
       " array([1.4, 1.4, 1.3, 1.5, 1.4, 1.7, 1.4, 1.5, 1.4, 1.5, 1.5, 1.6, 1.4,\n",
       "        1.1, 1.2, 1.5, 1.3, 1.4, 1.7, 1.5, 1.7, 1.5, 1.0, 1.7, 1.9, 1.6,\n",
       "        1.6, 1.5, 1.4, 1.6, 1.6, 1.5, 1.5, 1.4, 1.5, 1.2, 1.3, 1.5, 1.3,\n",
       "        1.5, 1.3, 1.3, 1.3, 1.6, 1.9, 1.4, 1.6, 1.4, 1.5, 1.4, 4.7, 4.5,\n",
       "        4.9, 4.0, 4.6, 4.5, 4.7, 3.3, 4.6, 3.9, 3.5, 4.2, 4.0, 4.7, 3.6,\n",
       "        4.4, 4.5, 4.1, 4.5, 3.9, 4.8, 4.0, 4.9, 4.7, 4.3, 4.4, 4.8, 5.0,\n",
       "        4.5, 3.5, 3.8, 3.7, 3.9, 5.1, 4.5, 4.5, 4.7, 4.4, 4.1, 4.0, 4.4,\n",
       "        4.6, 4.0, 3.3, 4.2, 4.2, 4.2, 4.3, 3.0, 4.1, 6.0, 5.1, 5.9, 5.6,\n",
       "        5.8, 6.6, 4.5, 6.3, 5.8, 6.1, 5.1, 5.3, 5.5, 5.0, 5.1, 5.3, 5.5,\n",
       "        6.7, 6.9, 5.0, 5.7, 4.9, 6.7, 4.9, 5.7, 6.0, 4.8, 4.9, 5.6, 5.8,\n",
       "        6.1, 6.4, 5.6, 5.1, 5.6, 6.1, 5.6, 5.5, 4.8, 5.4, 5.6, 5.1, 5.1,\n",
       "        5.9, 5.7, 5.2, 5.0, 5.2, 5.4, 5.1], dtype=object))"
      ]
     },
     "execution_count": 115,
     "metadata": {},
     "output_type": "execute_result"
    }
   ],
   "source": [
    "x,y"
   ]
  },
  {
   "cell_type": "code",
   "execution_count": 116,
   "metadata": {},
   "outputs": [],
   "source": [
    "from sklearn import model_selection\n",
    "X_train,X_test,Y_train,Y_test = model_selection.train_test_split(x,y , test_size=0.3)"
   ]
  },
  {
   "cell_type": "code",
   "execution_count": 117,
   "metadata": {},
   "outputs": [
    {
     "data": {
      "text/plain": [
       "(105,)"
      ]
     },
     "execution_count": 117,
     "metadata": {},
     "output_type": "execute_result"
    }
   ],
   "source": [
    "X_train.shape"
   ]
  },
  {
   "cell_type": "code",
   "execution_count": 118,
   "metadata": {},
   "outputs": [
    {
     "data": {
      "text/plain": [
       "(105,)"
      ]
     },
     "execution_count": 118,
     "metadata": {},
     "output_type": "execute_result"
    }
   ],
   "source": [
    "Y_train.shape"
   ]
  },
  {
   "cell_type": "code",
   "execution_count": 119,
   "metadata": {},
   "outputs": [],
   "source": [
    "def fit(x_train,y_train):\n",
    "    num = (x_train*y_train).mean() - x_train.mean() * y_train.mean()\n",
    "    dem = (x_train**2).mean() - x_train.mean()**2\n",
    "    m = num/dem\n",
    "    c=y_train.mean() - m * x_train.mean()\n",
    "    return m,c"
   ]
  },
  {
   "cell_type": "code",
   "execution_count": 120,
   "metadata": {},
   "outputs": [],
   "source": [
    "def predict(x,m,c):\n",
    "    return m * x + c\n",
    "\n",
    "def score(y_truth,y_pred):\n",
    "    u = ((y_truth - y_pred)**2).sum()\n",
    "    v = ((y_truth - y_truth.mean())**2).sum()\n",
    "    return 1-u/v\n",
    "def cost(x,y,m,c):\n",
    "    return ((y-m*x - c)**2).mean()"
   ]
  },
  {
   "cell_type": "code",
   "execution_count": 121,
   "metadata": {},
   "outputs": [
    {
     "name": "stdout",
     "output_type": "stream",
     "text": [
      "-2.024165812440753 9.78324104499784\n",
      "Test Score -0.10120384027464535\n",
      "Train Score 0.2546668704689474\n",
      "M,C -2.024165812440753 9.78324104499784\n",
      "Cost of training data 2.2706558580283325\n"
     ]
    }
   ],
   "source": [
    "m,c = fit(X_train,Y_train)\n",
    "print(m,c)\n",
    "#test data\n",
    "y_test_pred = predict(X_test,m,c)\n",
    "print(\"Test Score\",score(Y_test,y_test_pred))\n",
    "\n",
    "#train data\n",
    "y_train_pred = predict(X_train,m,c)\n",
    "print(\"Train Score\",score(Y_train,y_train_pred))\n",
    "print(\"M,C\",m,c)\n",
    "print(\"Cost of training data\",cost(X_train,Y_train,m,c))"
   ]
  },
  {
   "cell_type": "markdown",
   "metadata": {},
   "source": [
    "#sklearn"
   ]
  },
  {
   "cell_type": "code",
   "execution_count": 127,
   "metadata": {},
   "outputs": [],
   "source": [
    "x=np_data[:,0].reshape(-1,1)\n",
    "X_train = X_train.reshape(-1,1)"
   ]
  },
  {
   "cell_type": "code",
   "execution_count": 129,
   "metadata": {},
   "outputs": [
    {
     "name": "stdout",
     "output_type": "stream",
     "text": [
      "9.783241044997746\n",
      "[-2.02416581]\n"
     ]
    }
   ],
   "source": [
    "from sklearn.linear_model import LinearRegression\n",
    "alg1 = LinearRegression()\n",
    "alg1.fit(X_train,Y_train)\n",
    "print(alg1.intercept_)\n",
    "print(alg1.coef_)"
   ]
  }
 ],
 "metadata": {
  "kernelspec": {
   "display_name": "Python 3",
   "language": "python",
   "name": "python3"
  },
  "language_info": {
   "codemirror_mode": {
    "name": "ipython",
    "version": 3
   },
   "file_extension": ".py",
   "mimetype": "text/x-python",
   "name": "python",
   "nbconvert_exporter": "python",
   "pygments_lexer": "ipython3",
   "version": "3.8.3"
  }
 },
 "nbformat": 4,
 "nbformat_minor": 4
}
